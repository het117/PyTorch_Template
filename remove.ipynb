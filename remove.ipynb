{
 "cells": [
  {
   "cell_type": "code",
   "execution_count": 5,
   "metadata": {},
   "outputs": [
    {
     "name": "stdout",
     "output_type": "stream",
     "text": [
      "5115\n",
      "5115\n"
     ]
    },
    {
     "name": "stderr",
     "output_type": "stream",
     "text": [
      "100%|██████████| 5115/5115 [00:00<00:00, 41060.97it/s]"
     ]
    },
    {
     "name": "stdout",
     "output_type": "stream",
     "text": [
      "0\n"
     ]
    },
    {
     "name": "stderr",
     "output_type": "stream",
     "text": [
      "\n"
     ]
    }
   ],
   "source": [
    "import os\n",
    "from tqdm import tqdm\n",
    "\n",
    "image_path = \"./image\"\n",
    "label_path = \"./label\"\n",
    "\n",
    "count = 0\n",
    "\n",
    "image = os.listdir(image_path)\n",
    "label = os.listdir(label_path)\n",
    "\n",
    "print(len(image))\n",
    "print(len(label))\n",
    "\n",
    "for label_name in tqdm(label):\n",
    "    label_name = label_name.split('.')[0] + '.tiff'\n",
    "    \n",
    "    # print(label_name)\n",
    "    \n",
    "    if label_name not in image:\n",
    "        os.remove('./label/' + label_name.split('.')[0] + '.json')\n",
    "        # print(label_name)\n",
    "        count = count + 1\n",
    "        \n",
    "print(count)\n"
   ]
  },
  {
   "cell_type": "code",
   "execution_count": 1,
   "metadata": {},
   "outputs": [
    {
     "name": "stdout",
     "output_type": "stream",
     "text": [
      "4092\n",
      "1023\n"
     ]
    },
    {
     "name": "stderr",
     "output_type": "stream",
     "text": [
      "100%|██████████| 4092/4092 [00:07<00:00, 511.81it/s]\n",
      "100%|██████████| 1023/1023 [00:01<00:00, 562.45it/s]\n"
     ]
    }
   ],
   "source": [
    "import os\n",
    "import shutil\n",
    "from sklearn.model_selection import train_test_split\n",
    "from tqdm import tqdm\n",
    "\n",
    "file = os.listdir('./image/')\n",
    "\n",
    "t_image_path = \"./dataset/train/images/\"\n",
    "t_label_path = \"./dataset/train/labels/\"\n",
    "v_image_path = \"./dataset/val/images/\"\n",
    "v_label_path = \"./dataset/val/labels/\"\n",
    "\n",
    "train, val = train_test_split(file, test_size=0.2, random_state=42)\n",
    "\n",
    "print(len(train))\n",
    "print(len(val))\n",
    "\n",
    "for file in tqdm(train):\n",
    "    file = file.split('.')[0]\n",
    "    shutil.move('./image/' + file + '.tiff', t_image_path + file + '.tiff')\n",
    "    shutil.move('./txt/' + file + '.txt', t_label_path + file + '.txt')\n",
    "    \n",
    "for file in tqdm(val):\n",
    "    file = file.split('.')[0]\n",
    "    shutil.move('./image/' + file + '.tiff', v_image_path + file + '.tiff')\n",
    "    shutil.move('./txt/' + file + '.txt', v_label_path + file + '.txt')"
   ]
  }
 ],
 "metadata": {
  "kernelspec": {
   "display_name": "het",
   "language": "python",
   "name": "python3"
  },
  "language_info": {
   "codemirror_mode": {
    "name": "ipython",
    "version": 3
   },
   "file_extension": ".py",
   "mimetype": "text/x-python",
   "name": "python",
   "nbconvert_exporter": "python",
   "pygments_lexer": "ipython3",
   "version": "3.7.15"
  },
  "orig_nbformat": 4
 },
 "nbformat": 4,
 "nbformat_minor": 2
}
